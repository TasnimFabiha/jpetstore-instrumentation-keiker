{
 "cells": [
  {
   "cell_type": "code",
   "execution_count": 1,
   "metadata": {},
   "outputs": [
    {
     "name": "stdout",
     "output_type": "stream",
     "text": [
      "Collecting javalang\n",
      "  Downloading javalang-0.13.0-py3-none-any.whl (22 kB)\n",
      "Requirement already satisfied: six in /Users/fabiha/anaconda3/lib/python3.10/site-packages (from javalang) (1.16.0)\n",
      "Installing collected packages: javalang\n",
      "Successfully installed javalang-0.13.0\n"
     ]
    }
   ],
   "source": [
    "%pip install javalang"
   ]
  },
  {
   "cell_type": "code",
   "execution_count": 3,
   "metadata": {},
   "outputs": [
    {
     "name": "stdout",
     "output_type": "stream",
     "text": [
      "Total methods in project: 283\n"
     ]
    }
   ],
   "source": [
    "import os\n",
    "import javalang\n",
    "\n",
    "def count_methods_in_file(file_path):\n",
    "    try:\n",
    "        with open(file_path, 'r', encoding='utf-8') as file:\n",
    "            content = file.read()\n",
    "            tree = javalang.parse.parse(content)\n",
    "            return sum(1 for _, node in tree if isinstance(node, javalang.tree.MethodDeclaration))\n",
    "    except Exception as e:\n",
    "        print(f\"Error parsing {file_path}: {e}\")\n",
    "        return 0\n",
    "\n",
    "def count_methods_in_project(directory):\n",
    "    total_methods = 0\n",
    "    for root, _, files in os.walk(directory):\n",
    "        for file in files:\n",
    "            if file.endswith('.java'):\n",
    "                file_path = os.path.join(root, file)\n",
    "                total_methods += count_methods_in_file(file_path)\n",
    "    return total_methods\n",
    "\n",
    "# Example usage\n",
    "project_directory = \"/Users/fabiha/Documents/mono2micro/mono2micro/jpet-6-master/jpetstore-6/src/main/java/org/mybatis/jpetstore\"\n",
    "method_count = count_methods_in_project(project_directory)\n",
    "print(f\"Total methods in project: {method_count}\")"
   ]
  }
 ],
 "metadata": {
  "kernelspec": {
   "display_name": "base",
   "language": "python",
   "name": "python3"
  },
  "language_info": {
   "codemirror_mode": {
    "name": "ipython",
    "version": 3
   },
   "file_extension": ".py",
   "mimetype": "text/x-python",
   "name": "python",
   "nbconvert_exporter": "python",
   "pygments_lexer": "ipython3",
   "version": "3.10.9"
  }
 },
 "nbformat": 4,
 "nbformat_minor": 2
}
